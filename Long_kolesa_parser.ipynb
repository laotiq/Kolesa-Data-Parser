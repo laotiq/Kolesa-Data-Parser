{
 "cells": [
  {
   "cell_type": "code",
   "execution_count": 1,
   "metadata": {},
   "outputs": [],
   "source": [
    "from bs4 import BeautifulSoup as bs\n",
    "import requests\n",
    "import pandas as pd\n",
    "from csv import reader\n",
    "from multiprocessing import Pool\n",
    "from datetime import datetime"
   ]
  },
  {
   "cell_type": "code",
   "execution_count": 2,
   "metadata": {},
   "outputs": [],
   "source": [
    "kolesa_list = []\n",
    "url = 'https://kolesa.kz/cars/?page='\n",
    "# for i in range(1,100):\n",
    "#     url = 'https://kolesa.kz/cars/?page='\n",
    "#     page = url + str(i)\n",
    "#     urls.append(page)\n",
    "urls = [(url+str(i)) for i in range(1,100)]"
   ]
  },
  {
   "cell_type": "code",
   "execution_count": 3,
   "metadata": {},
   "outputs": [],
   "source": [
    "def get_data(url):\n",
    "    headers = {\n",
    "        'accept': 'text/html,application/xhtml+xml,application/xml;q=0.9,image/avif,image/webp,image/apng,*/*;q=0.8,application/signed-exchange;v=b3;q=0.9',\n",
    "        'user-agent': 'Mozilla/5.0 (Windows NT 6.1; WOW64) AppleWebKit/537.36 (KHTML, like Gecko) Chrome/86.0.4240.183 Safari/537.36 OPR/72.0.3815.320 (Edition Campaign 34)'\n",
    "    }\n",
    "    r = requests.get(url, headers=headers)\n",
    "\n",
    "    # Convert to Beautiful Soup Object\n",
    "    soup = bs(r.content, 'lxml')\n",
    "    \n",
    "    \n",
    "    # Добавляем отдельно Бренд Модель и Год\n",
    "    car_name = soup.find(class_='offer__title')\n",
    "    cars = {}\n",
    "    if car_name.find('span', itemprop='name'):\n",
    "        cars['Бренд'] = car_name.find('span', itemprop='brand').get_text()\n",
    "        cars['Модель'] = car_name.find('span', itemprop='name').get_text()\n",
    "        cars['Год'] = car_name.find('span', class_='year').get_text()\n",
    "    else:\n",
    "        cars['Бренд'] = car_name.find('span', itemprop='brand').get_text()\n",
    "        cars['Год'] = car_name.find('span', class_='year').get_text()\n",
    "\n",
    "    # Добавляем колонку отдельно\n",
    "    info_car = soup.find(class_='offer__sidebar-info')\n",
    "    info_cars = info_car.find_all('dl')\n",
    "    for row in info_cars:\n",
    "        if row.find('span').get_text() not in cars:\n",
    "            cars[row.find('span').get_text()] = row.find('dd').get_text(' ', strip=True)\n",
    "\n",
    "    # Добавляем колонку Цены Машины\n",
    "    price_cars = soup.find_all('div', class_=\"offer__sidebar-header\")\n",
    "    for row in price_cars:\n",
    "        s = row.find('div', class_='offer__price')\n",
    "        cars['Цена'] = s.get_text(\" \", strip=True).replace('\\xa0', ' ')\n",
    "    \n",
    "    # Добавляем колонку Средней цены Данной Машины\n",
    "    mean_price = soup.find_all('div', class_='kolesa-score-average')\n",
    "    for row in mean_price:\n",
    "        s = row.find('div', class_='kolesa-score-price')\n",
    "        cars['Средння цена'] = s.get_text('', strip=True).replace('\\xa0', ' ')\n",
    "\n",
    "    return cars"
   ]
  },
  {
   "cell_type": "code",
   "execution_count": 4,
   "metadata": {},
   "outputs": [],
   "source": [
    "# kolesa_s = []\n",
    "# for url in urls:\n",
    "#     r = requests.get(url)\n",
    "#     soup = bs(r.content)\n",
    "#     kolesa = soup.select('.a-el-info-title a')\n",
    "#     for car in kolesa:\n",
    "#         kolesa_s.append(car['href'])\n",
    "#         print(kolesa_s)"
   ]
  },
  {
   "cell_type": "code",
   "execution_count": 5,
   "metadata": {},
   "outputs": [
    {
     "name": "stdout",
     "output_type": "stream",
     "text": [
      "0:03:03.396490\n"
     ]
    }
   ],
   "source": [
    "kolesa_s = []\n",
    "start = datetime.now()\n",
    "for url in urls:\n",
    "    r = requests.get(url)\n",
    "    soup = bs(r.content)\n",
    "    kolesa = soup.select('.a-el-info-title a')\n",
    "    for car in kolesa:\n",
    "        try:\n",
    "            kolesa_s.append(car['href'])\n",
    "#             print(kolesa_s)\n",
    "        except Exception as e:\n",
    "            print(e)\n",
    "end = datetime.now()\n",
    "total = end - start\n",
    "print(str(total))\n",
    "# kolesa_list = []\n",
    "# basic_path = 'https://kolesa.kz'\n",
    "# for relative_path in kolesa_s:\n",
    "#     full_path = basic_path + relative_path\n",
    "#     kolesa_list.append(get_data(full_path))\n",
    "#     print(kolesa_list)\n",
    "# df = pd.DataFrame(kolesa_list)"
   ]
  },
  {
   "cell_type": "code",
   "execution_count": 7,
   "metadata": {},
   "outputs": [
    {
     "name": "stdout",
     "output_type": "stream",
     "text": [
      "0:27:09.956228\n"
     ]
    }
   ],
   "source": [
    "kolesa_list = []\n",
    "basic_path = 'https://kolesa.kz'\n",
    "start = datetime.now()\n",
    "for relative_path in kolesa_s:\n",
    "    try:\n",
    "        full_path = basic_path + relative_path\n",
    "        kolesa_list.append(get_data(full_path))\n",
    "    except Exception as e:\n",
    "        print(e)\n",
    "end = datetime.now()\n",
    "total = end - start\n",
    "print(str(total))\n",
    "df = pd.DataFrame(kolesa_list)"
   ]
  },
  {
   "cell_type": "code",
   "execution_count": 8,
   "metadata": {},
   "outputs": [
    {
     "data": {
      "text/plain": [
       "1980"
      ]
     },
     "execution_count": 8,
     "metadata": {},
     "output_type": "execute_result"
    }
   ],
   "source": [
    "len(kolesa_s)"
   ]
  },
  {
   "cell_type": "code",
   "execution_count": 11,
   "metadata": {},
   "outputs": [],
   "source": [
    "df.to_csv('kolesa.csv',index=False)"
   ]
  },
  {
   "cell_type": "code",
   "execution_count": 22,
   "metadata": {},
   "outputs": [
    {
     "data": {
      "text/plain": [
       "Camry                 134\n",
       "Land Cruiser Prado     56\n",
       "2114 (хэтчбек)         47\n",
       "Land Cruiser           45\n",
       "ГАЗель                 41\n",
       "                     ... \n",
       "Tacuma                  1\n",
       "Genesis                 1\n",
       "Lanos                   1\n",
       "Соболь                  1\n",
       "2191 (лифтбек)          1\n",
       "Name: Модель, Length: 443, dtype: int64"
      ]
     },
     "execution_count": 22,
     "metadata": {},
     "output_type": "execute_result"
    }
   ],
   "source": [
    "df['Модель'].value_counts()"
   ]
  },
  {
   "cell_type": "code",
   "execution_count": null,
   "metadata": {},
   "outputs": [],
   "source": []
  },
  {
   "cell_type": "code",
   "execution_count": null,
   "metadata": {},
   "outputs": [],
   "source": []
  }
 ],
 "metadata": {
  "kernelspec": {
   "display_name": "Python 3",
   "language": "python",
   "name": "python3"
  },
  "language_info": {
   "codemirror_mode": {
    "name": "ipython",
    "version": 3
   },
   "file_extension": ".py",
   "mimetype": "text/x-python",
   "name": "python",
   "nbconvert_exporter": "python",
   "pygments_lexer": "ipython3",
   "version": "3.7.6"
  }
 },
 "nbformat": 4,
 "nbformat_minor": 4
}
