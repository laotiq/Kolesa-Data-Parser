{
 "cells": [
  {
   "cell_type": "code",
   "execution_count": 1,
   "metadata": {},
   "outputs": [],
   "source": [
    "from bs4 import BeautifulSoup as bs\n",
    "import requests\n",
    "import pandas as pd\n",
    "import concurrent.futures\n",
    "from csv import reader"
   ]
  },
  {
   "cell_type": "code",
   "execution_count": 2,
   "metadata": {},
   "outputs": [
    {
     "name": "stdout",
     "output_type": "stream",
     "text": [
      "https://kolesa.kz/cars/?page=1\n"
     ]
    }
   ],
   "source": [
    "kolesa_list = []\n",
    "urls = []\n",
    "n_pages = 0\n",
    "for i in range(1,1001):\n",
    "    n_pages += 1\n",
    "    url = 'https://kolesa.kz/cars/?page='\n",
    "    page = url + str(i)\n",
    "    urls.append(page)\n",
    "    \n",
    "for url in urls:\n",
    "    print(url)\n",
    "    break"
   ]
  },
  {
   "cell_type": "code",
   "execution_count": 3,
   "metadata": {},
   "outputs": [],
   "source": [
    "def get_data(url):\n",
    "    headers = {\n",
    "        'accept': 'text/html,application/xhtml+xml,application/xml;q=0.9,image/avif,image/webp,image/apng,*/*;q=0.8,application/signed-exchange;v=b3;q=0.9',\n",
    "        'user-agent': 'Mozilla/5.0 (Windows NT 6.1; WOW64) AppleWebKit/537.36 (KHTML, like Gecko) Chrome/86.0.4240.183 Safari/537.36 OPR/72.0.3815.320 (Edition Campaign 34)'\n",
    "    }\n",
    "    r = requests.get(url, headers=headers)\n",
    "\n",
    "    # Convert to Beautiful Soup Object\n",
    "    soup = bs(r.content, 'lxml')\n",
    "    \n",
    "    # Добавляем отдельно Бренд Модель и Год\n",
    "    car_name = soup.find(class_='offer__title')\n",
    "    cars = {}\n",
    "    if car_name.find('span', itemprop='name'):\n",
    "        cars['Бренд'] = car_name.find('span', itemprop='brand').get_text()\n",
    "        cars['Модель'] = car_name.find('span', itemprop='name').get_text()\n",
    "        cars['Год'] = car_name.find('span', class_='year').get_text()\n",
    "    else:\n",
    "        cars['Бренд'] = car_name.find('span', itemprop='brand').get_text()\n",
    "        cars['Год'] = car_name.find('span', class_='year').get_text()\n",
    "\n",
    "    # Добавляем колонку отдельно\n",
    "    info_car = soup.find(class_='offer__sidebar-info')\n",
    "    info_cars = info_car.find_all('dl')\n",
    "    for row in info_cars:\n",
    "        if row.find('span').get_text() not in cars:\n",
    "            cars[row.find('span').get_text()] = row.find('dd').get_text(' ', strip=True)\n",
    "\n",
    "    # Добавляем колонку Цены Машины\n",
    "    price_cars = soup.find_all('div', class_=\"offer__sidebar-header\")\n",
    "    for row in price_cars:\n",
    "        s = row.find('div', class_='offer__price')\n",
    "        cars['Цена'] = s.get_text(\" \", strip=True).replace('\\xa0', ' ')\n",
    "    \n",
    "    # Добавляем колонку Средней цены Данной Машины\n",
    "    mean_price = soup.find_all('div', class_='kolesa-score-average')\n",
    "    for row in mean_price:\n",
    "        s = row.find('div', class_='kolesa-score-price')\n",
    "        cars['Средння цена'] = s.get_text('', strip=True).replace('\\xa0', ' ')\n",
    "\n",
    "    return cars"
   ]
  },
  {
   "cell_type": "code",
   "execution_count": 4,
   "metadata": {},
   "outputs": [],
   "source": [
    "def get_all_data(urls):\n",
    "    for url in urls:\n",
    "        r = requests.get(url)\n",
    "        soup = bs(r.content)\n",
    "        kolesa = soup.select('.a-el-info-title a')\n",
    "        kolesa_list = []\n",
    "        basic_path = 'https://kolesa.kz'\n",
    "        for index, car in enumerate(kolesa):\n",
    "            try:\n",
    "                relative_path = car['href']\n",
    "                full_path = basic_path + relative_path\n",
    "                kolesa_list.append(get_data(full_path))\n",
    "            except Exception as e:\n",
    "                print(car['href'])\n",
    "                print(e)"
   ]
  },
  {
   "cell_type": "code",
   "execution_count": null,
   "metadata": {},
   "outputs": [],
   "source": [
    "with concurrent.futures.ThreadPoolExecutor() as executor:\n",
    "    executor.map(get_all_data, urls)"
   ]
  },
  {
   "cell_type": "code",
   "execution_count": null,
   "metadata": {},
   "outputs": [],
   "source": [
    "kolesa_list"
   ]
  },
  {
   "cell_type": "code",
   "execution_count": null,
   "metadata": {},
   "outputs": [],
   "source": []
  }
 ],
 "metadata": {
  "kernelspec": {
   "display_name": "Python 3",
   "language": "python",
   "name": "python3"
  },
  "language_info": {
   "codemirror_mode": {
    "name": "ipython",
    "version": 3
   },
   "file_extension": ".py",
   "mimetype": "text/x-python",
   "name": "python",
   "nbconvert_exporter": "python",
   "pygments_lexer": "ipython3",
   "version": "3.7.6"
  }
 },
 "nbformat": 4,
 "nbformat_minor": 4
}
